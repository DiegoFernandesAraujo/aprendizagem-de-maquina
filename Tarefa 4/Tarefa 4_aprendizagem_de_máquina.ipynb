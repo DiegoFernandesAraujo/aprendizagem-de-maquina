{
 "cells": [
  {
   "cell_type": "markdown",
   "metadata": {},
   "source": [
    "# Aprendizagem de máquina\n",
    "# Tarefa 4 - Programando Regressão Logística do Zero\n",
    "\n",
    "Nessa tarefa é implementado o algoritmo de regressão logística para classes binárias. "
   ]
  },
  {
   "cell_type": "code",
   "execution_count": 1,
   "metadata": {
    "collapsed": true
   },
   "outputs": [],
   "source": [
    "import numpy as np\n",
    "import math\n",
    "import pandas as pd\n",
    "import matplotlib\n",
    "%matplotlib inline"
   ]
  },
  {
   "cell_type": "markdown",
   "metadata": {},
   "source": [
    "# Algoritmo de regressão linear múltipla"
   ]
  },
  {
   "cell_type": "markdown",
   "metadata": {},
   "source": [
    "### Função *score*"
   ]
  },
  {
   "cell_type": "markdown",
   "metadata": {},
   "source": [
    "$\\hat{P}(y=+1|\\textbf{x},\\hat{\\textbf{w}}) = \\displaystyle \\frac{1}{1 + e^{- \\hat{\\textbf{w}} h(x)}}$"
   ]
  },
  {
   "cell_type": "code",
   "execution_count": 27,
   "metadata": {
    "collapsed": true
   },
   "outputs": [],
   "source": [
    "def prob_cond(W, X):\n",
    "    return 1/(1 + np.exp(np.dot(-X, W)))"
   ]
  },
  {
   "cell_type": "markdown",
   "metadata": {},
   "source": [
    "### Função para cálculo do passo gradiente"
   ]
  },
  {
   "cell_type": "markdown",
   "metadata": {},
   "source": [
    "$\\frac{\\partial l(\\textbf{w}^{(t)}}{\\partial \\textbf{w}_{j} } = \\displaystyle \\sum_{i=1}^{N}{ h_j(\\textbf{x}_i)\\left( y - \\hat{P}(y=+1|\\textbf{x}_i,\\hat{\\textbf{w}}^{(t)}) \\right)}$"
   ]
  },
  {
   "cell_type": "code",
   "execution_count": 6,
   "metadata": {
    "collapsed": true
   },
   "outputs": [],
   "source": [
    "def step_gradient_vectorized(w_current,X,y,learningRate):\n",
    "    \n",
    "    w_gradient = np.zeros((5,1))\n",
    "    \n",
    "    pred = prob_cond(w_current, X)\n",
    "    \n",
    "    tam = pred.shape[0]\n",
    "    pred = pred.reshape(tam,)\n",
    "\n",
    "    for i in range(0,len(X.T)):\n",
    "        \n",
    "        X2 = X[:,i]\n",
    "        \n",
    "        w_gradient[i] = np.sum(np.multiply(X2, (y - pred ) ) )\n",
    "        \n",
    "        w_current[i] = w_current[i] + (learningRate * w_gradient[i])\n",
    "\n",
    "    new_w = w_current\n",
    "    \n",
    "    return [new_w, w_gradient]"
   ]
  },
  {
   "cell_type": "code",
   "execution_count": 33,
   "metadata": {
    "collapsed": true
   },
   "outputs": [],
   "source": [
    "def gradient_ascent_runner_vectorized(starting_w, X, y, learning_rate, epsilon):\n",
    "    w = starting_w\n",
    "    \n",
    "    grad = np.array([np.inf,np.inf,np.inf,np.inf,np.inf]) \n",
    "    \n",
    "    X = np.array(X)\n",
    "    y = np.array(y)\n",
    "    \n",
    "    while (np.linalg.norm(grad)>epsilon):\n",
    "\n",
    "        w,w_gradient = step_gradient_vectorized(w, X, y, learning_rate)\n",
    "        \n",
    "        grad = np.array(w_gradient)\n",
    "        \n",
    "    return w"
   ]
  },
  {
   "cell_type": "markdown",
   "metadata": {},
   "source": [
    "### Função de predição de classe"
   ]
  },
  {
   "cell_type": "code",
   "execution_count": 8,
   "metadata": {
    "collapsed": true
   },
   "outputs": [],
   "source": [
    "def predict(X,W,grau_certeza): #Recebe o conjunto X de features e o vetor W de coeficientes\n",
    "    \n",
    "    X = np.array(X)\n",
    "    \n",
    "    y = np.zeros(X.shape[0])\n",
    "    \n",
    "    for i in range(0,len(X)):\n",
    "\n",
    "        if  prob_cond(W,X[i]) > grau_certeza:\n",
    "            y[i] = 1\n",
    "        else:\n",
    "            y[i] = 0\n",
    "    \n",
    "    return y"
   ]
  },
  {
   "cell_type": "markdown",
   "metadata": {},
   "source": [
    "## Configuração do ambiente e execução do algoritmo de regressão logísitca\n",
    "### Leitura dos dados"
   ]
  },
  {
   "cell_type": "code",
   "execution_count": 9,
   "metadata": {},
   "outputs": [
    {
     "data": {
      "text/html": [
       "<div>\n",
       "<style>\n",
       "    .dataframe thead tr:only-child th {\n",
       "        text-align: right;\n",
       "    }\n",
       "\n",
       "    .dataframe thead th {\n",
       "        text-align: left;\n",
       "    }\n",
       "\n",
       "    .dataframe tbody tr th {\n",
       "        vertical-align: top;\n",
       "    }\n",
       "</style>\n",
       "<table border=\"1\" class=\"dataframe\">\n",
       "  <thead>\n",
       "    <tr style=\"text-align: right;\">\n",
       "      <th></th>\n",
       "      <th>1s</th>\n",
       "      <th>sepal length</th>\n",
       "      <th>sepal width</th>\n",
       "      <th>petal length</th>\n",
       "      <th>petal width</th>\n",
       "      <th>class</th>\n",
       "    </tr>\n",
       "  </thead>\n",
       "  <tbody>\n",
       "    <tr>\n",
       "      <th>0</th>\n",
       "      <td>1.0</td>\n",
       "      <td>5.1</td>\n",
       "      <td>3.5</td>\n",
       "      <td>1.4</td>\n",
       "      <td>0.2</td>\n",
       "      <td>Iris-setosa</td>\n",
       "    </tr>\n",
       "    <tr>\n",
       "      <th>1</th>\n",
       "      <td>1.0</td>\n",
       "      <td>4.9</td>\n",
       "      <td>3.0</td>\n",
       "      <td>1.4</td>\n",
       "      <td>0.2</td>\n",
       "      <td>Iris-setosa</td>\n",
       "    </tr>\n",
       "    <tr>\n",
       "      <th>2</th>\n",
       "      <td>1.0</td>\n",
       "      <td>4.7</td>\n",
       "      <td>3.2</td>\n",
       "      <td>1.3</td>\n",
       "      <td>0.2</td>\n",
       "      <td>Iris-setosa</td>\n",
       "    </tr>\n",
       "    <tr>\n",
       "      <th>3</th>\n",
       "      <td>1.0</td>\n",
       "      <td>4.6</td>\n",
       "      <td>3.1</td>\n",
       "      <td>1.5</td>\n",
       "      <td>0.2</td>\n",
       "      <td>Iris-setosa</td>\n",
       "    </tr>\n",
       "    <tr>\n",
       "      <th>4</th>\n",
       "      <td>1.0</td>\n",
       "      <td>5.0</td>\n",
       "      <td>3.6</td>\n",
       "      <td>1.4</td>\n",
       "      <td>0.2</td>\n",
       "      <td>Iris-setosa</td>\n",
       "    </tr>\n",
       "  </tbody>\n",
       "</table>\n",
       "</div>"
      ],
      "text/plain": [
       "    1s  sepal length  sepal width  petal length  petal width        class\n",
       "0  1.0           5.1          3.5           1.4          0.2  Iris-setosa\n",
       "1  1.0           4.9          3.0           1.4          0.2  Iris-setosa\n",
       "2  1.0           4.7          3.2           1.3          0.2  Iris-setosa\n",
       "3  1.0           4.6          3.1           1.5          0.2  Iris-setosa\n",
       "4  1.0           5.0          3.6           1.4          0.2  Iris-setosa"
      ]
     },
     "execution_count": 9,
     "metadata": {},
     "output_type": "execute_result"
    }
   ],
   "source": [
    "iris = pd.read_csv(\"iris.data\", names = [\"sepal length\", \"sepal width\", \"petal length\", \"petal width\", \"class\"])\n",
    "iris = iris.replace(['Iris-versicolor', 'Iris-virginica'], 'Iris-no-setosa')\n",
    "\n",
    "ones = np.ones(len(iris))\n",
    "ones = pd.DataFrame(ones)\n",
    "iris.insert(0, '1s', ones)\n",
    "\n",
    "iris.head()"
   ]
  },
  {
   "cell_type": "markdown",
   "metadata": {},
   "source": [
    "### Separação do conjunto das variáveis de entrada do conjunto da variável alvo"
   ]
  },
  {
   "cell_type": "code",
   "execution_count": 10,
   "metadata": {
    "collapsed": true
   },
   "outputs": [],
   "source": [
    "X = iris.loc[:, [\"1s\", \"sepal length\", \"sepal width\", \"petal length\", \"petal width\"]]\n",
    "y = iris.loc[:, [\"class\"]]\n",
    "\n",
    "y = y.replace(['Iris-setosa'], 1)\n",
    "y = y.replace(['Iris-no-setosa'], 0)\n",
    "\n",
    "y['class'] = pd.to_numeric(y['class'])\n",
    "\n",
    "y = np.array(y)\n",
    "\n",
    "y = y.reshape(y.shape[0],)"
   ]
  },
  {
   "cell_type": "markdown",
   "metadata": {},
   "source": [
    "## Execução\n",
    "\n",
    "Aplicação do algoritmo de aprendizagem ao conjunto de treinamento definido acima:"
   ]
  },
  {
   "cell_type": "code",
   "execution_count": 34,
   "metadata": {},
   "outputs": [
    {
     "name": "stdout",
     "output_type": "stream",
     "text": [
      "Iniciando gradiente ascendente w0 = [ 0.], w1 = [ 0.], w2 = [ 0.], w3 = [ 0.], w4 = [ 0.]\n",
      "Running...\n",
      "Gradiente ascendente convergiu com w0 = [ 0.59295669], w1 = [ 0.94624963], w2 = [ 3.27518092], w3 = [-5.12522917], w4 = [-2.40615172]\n"
     ]
    }
   ],
   "source": [
    "init_w = np.zeros((5,1))\n",
    "\n",
    "# learning_rate = 0.05\n",
    "learning_rate = 0.00009\n",
    "# learning_rate = 0.0000001\n",
    "epsilon = 0.05\n",
    "\n",
    "print(\"Iniciando gradiente ascendente w0 = {0}, w1 = {1}, w2 = {2}, w3 = {3}, w4 = {4}\".format(init_w[0], init_w[1], init_w[2], init_w[3], init_w[4]))\n",
    "print(\"Running...\")\n",
    "\n",
    "w = gradient_ascent_runner_vectorized(init_w, X, y, learning_rate, epsilon)\n",
    "print(\"Gradiente ascendente convergiu com w0 = {0}, w1 = {1}, w2 = {2}, w3 = {3}, w4 = {4}\".format(w[0], w[1], w[2], w[3], w[4]))"
   ]
  },
  {
   "cell_type": "markdown",
   "metadata": {
    "collapsed": true
   },
   "source": [
    "# Comparação dos coeficientes do algoritmo acima com aqueles do Scikit-learn"
   ]
  },
  {
   "cell_type": "markdown",
   "metadata": {},
   "source": [
    "Vejamos se os coeficientes gerados pela função de regressão logística do pacote de machine learning **scikit-learn** são semelhantes àqueles encontrados pelo algoritmo aqui programado:"
   ]
  },
  {
   "cell_type": "markdown",
   "metadata": {
    "collapsed": true
   },
   "source": [
    "Considerando que foi criada uma coluna com 1s para calcular o w0 no algoritmo acima, e que o scikit não necessita dela, iremos desconsiderá-la a seguir:"
   ]
  },
  {
   "cell_type": "code",
   "execution_count": 16,
   "metadata": {
    "collapsed": true
   },
   "outputs": [],
   "source": [
    "X_new = iris.loc[:, [\"sepal length\", \"sepal width\", \"petal length\", \"petal width\"]]"
   ]
  },
  {
   "cell_type": "markdown",
   "metadata": {},
   "source": [
    "No **sckit** há o regressor logístico SGDClassifier, que opera de forma semelhante ao algoritmo implementado acima quando utilizando a função de perda *log likelihood*."
   ]
  },
  {
   "cell_type": "code",
   "execution_count": 36,
   "metadata": {},
   "outputs": [
    {
     "name": "stdout",
     "output_type": "stream",
     "text": [
      "Coeficientes: w0 = -0.003344782431728037, w1 = -0.026860387303040415, w2 = -0.006971360846545073, w3 = -0.032722560635187824, w4 = -0.01238640317713921\n"
     ]
    }
   ],
   "source": [
    "from sklearn.linear_model import SGDClassifier\n",
    "\n",
    "model_lreg = SGDClassifier(tol=epsilon, eta0=learning_rate, learning_rate='constant', loss='log', penalty='none').fit(X_new, y)\n",
    "print(\"Coeficientes: w0 = {0}, w1 = {1}, w2 = {2}, w3 = {3}, w4 = {4}\".format(model_lreg.intercept_[0], model_lreg.coef_[0,0], model_lreg.coef_[0,1], model_lreg.coef_[0,2], model_lreg.coef_[0,3]))"
   ]
  },
  {
   "cell_type": "markdown",
   "metadata": {},
   "source": [
    "Apesar de utilizando os mesmos *epslon* e *learning_rate*, os valores dos coeficientes não apresentaram-se semelhantes entre as duas soluções utilizadas."
   ]
  }
 ],
 "metadata": {
  "kernelspec": {
   "display_name": "Python 3",
   "language": "python",
   "name": "python3"
  },
  "language_info": {
   "codemirror_mode": {
    "name": "ipython",
    "version": 3
   },
   "file_extension": ".py",
   "mimetype": "text/x-python",
   "name": "python",
   "nbconvert_exporter": "python",
   "pygments_lexer": "ipython3",
   "version": "3.6.3"
  }
 },
 "nbformat": 4,
 "nbformat_minor": 2
}
