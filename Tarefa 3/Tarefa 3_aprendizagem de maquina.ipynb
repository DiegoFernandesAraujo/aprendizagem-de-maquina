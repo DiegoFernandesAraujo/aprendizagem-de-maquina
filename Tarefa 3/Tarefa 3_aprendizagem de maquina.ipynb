{
 "cells": [
  {
   "cell_type": "markdown",
   "metadata": {},
   "source": [
    "# Tarefa 3 - Predição de CRA com Regressão\n",
    "\n",
    "Nesta tarefa são construídos modelos preditivos de regressão para a predição do CRA de alunos de computação da UFCG ao final do curso baseados nas disciplinas do primeiro e segundo período utilizando o pacote **scikit learn**.\n"
   ]
  },
  {
   "cell_type": "code",
   "execution_count": 69,
   "metadata": {
    "collapsed": true
   },
   "outputs": [],
   "source": [
    "import pandas as pd\n",
    "import numpy as np\n",
    "import seaborn as sns\n",
    "import matplotlib\n",
    "\n",
    "import matplotlib.pyplot as plt\n",
    "from scipy.stats import skew\n",
    "\n",
    "%config InlineBackend.figure_format = 'png'\n",
    "%matplotlib inline"
   ]
  },
  {
   "cell_type": "code",
   "execution_count": 70,
   "metadata": {},
   "outputs": [
    {
     "data": {
      "text/html": [
       "<div>\n",
       "<style>\n",
       "    .dataframe thead tr:only-child th {\n",
       "        text-align: right;\n",
       "    }\n",
       "\n",
       "    .dataframe thead th {\n",
       "        text-align: left;\n",
       "    }\n",
       "\n",
       "    .dataframe tbody tr th {\n",
       "        vertical-align: top;\n",
       "    }\n",
       "</style>\n",
       "<table border=\"1\" class=\"dataframe\">\n",
       "  <thead>\n",
       "    <tr style=\"text-align: right;\">\n",
       "      <th></th>\n",
       "      <th>matricula</th>\n",
       "      <th>Vetorial</th>\n",
       "      <th>LPT</th>\n",
       "      <th>P1</th>\n",
       "      <th>IC</th>\n",
       "      <th>LP1</th>\n",
       "      <th>Cálculo2</th>\n",
       "      <th>Discreta</th>\n",
       "      <th>P2</th>\n",
       "      <th>Grafos</th>\n",
       "      <th>Fís.Clássica</th>\n",
       "      <th>LP2</th>\n",
       "      <th>cra</th>\n",
       "      <th>Cálculo1</th>\n",
       "    </tr>\n",
       "  </thead>\n",
       "  <tbody>\n",
       "    <tr>\n",
       "      <th>0</th>\n",
       "      <td>0cc3d63edf0b986cb87e345972857e15</td>\n",
       "      <td>8.6</td>\n",
       "      <td>10.0</td>\n",
       "      <td>9.0</td>\n",
       "      <td>9.1</td>\n",
       "      <td>8.6</td>\n",
       "      <td>8.4</td>\n",
       "      <td>8.3</td>\n",
       "      <td>8.8</td>\n",
       "      <td>8.2</td>\n",
       "      <td>7.9</td>\n",
       "      <td>9.4</td>\n",
       "      <td>8.477647</td>\n",
       "      <td>8.7</td>\n",
       "    </tr>\n",
       "    <tr>\n",
       "      <th>1</th>\n",
       "      <td>0d78246db769dc958ce19fc414050b2a</td>\n",
       "      <td>5.6</td>\n",
       "      <td>7.0</td>\n",
       "      <td>7.7</td>\n",
       "      <td>7.0</td>\n",
       "      <td>8.1</td>\n",
       "      <td>6.2</td>\n",
       "      <td>7.3</td>\n",
       "      <td>8.2</td>\n",
       "      <td>5.4</td>\n",
       "      <td>7.7</td>\n",
       "      <td>8.9</td>\n",
       "      <td>6.851724</td>\n",
       "      <td>7.0</td>\n",
       "    </tr>\n",
       "    <tr>\n",
       "      <th>2</th>\n",
       "      <td>0f5bb983df06b90337dc2c6301fef3f6</td>\n",
       "      <td>10.0</td>\n",
       "      <td>9.8</td>\n",
       "      <td>7.9</td>\n",
       "      <td>9.6</td>\n",
       "      <td>8.3</td>\n",
       "      <td>8.7</td>\n",
       "      <td>8.8</td>\n",
       "      <td>9.5</td>\n",
       "      <td>9.2</td>\n",
       "      <td>8.6</td>\n",
       "      <td>9.7</td>\n",
       "      <td>9.090588</td>\n",
       "      <td>8.6</td>\n",
       "    </tr>\n",
       "    <tr>\n",
       "      <th>3</th>\n",
       "      <td>1307a4421a67a497cea198e8ccfb97ee</td>\n",
       "      <td>6.1</td>\n",
       "      <td>8.3</td>\n",
       "      <td>6.8</td>\n",
       "      <td>8.2</td>\n",
       "      <td>7.1</td>\n",
       "      <td>8.0</td>\n",
       "      <td>6.3</td>\n",
       "      <td>8.9</td>\n",
       "      <td>7.0</td>\n",
       "      <td>8.5</td>\n",
       "      <td>9.0</td>\n",
       "      <td>7.283516</td>\n",
       "      <td>7.8</td>\n",
       "    </tr>\n",
       "    <tr>\n",
       "      <th>4</th>\n",
       "      <td>1432d50cf8519694ab992c414d90a130</td>\n",
       "      <td>8.8</td>\n",
       "      <td>9.3</td>\n",
       "      <td>5.0</td>\n",
       "      <td>8.5</td>\n",
       "      <td>5.1</td>\n",
       "      <td>5.0</td>\n",
       "      <td>5.8</td>\n",
       "      <td>7.1</td>\n",
       "      <td>5.4</td>\n",
       "      <td>8.7</td>\n",
       "      <td>8.2</td>\n",
       "      <td>7.205747</td>\n",
       "      <td>5.2</td>\n",
       "    </tr>\n",
       "  </tbody>\n",
       "</table>\n",
       "</div>"
      ],
      "text/plain": [
       "                          matricula  Vetorial   LPT   P1   IC  LP1  Cálculo2  \\\n",
       "0  0cc3d63edf0b986cb87e345972857e15       8.6  10.0  9.0  9.1  8.6       8.4   \n",
       "1  0d78246db769dc958ce19fc414050b2a       5.6   7.0  7.7  7.0  8.1       6.2   \n",
       "2  0f5bb983df06b90337dc2c6301fef3f6      10.0   9.8  7.9  9.6  8.3       8.7   \n",
       "3  1307a4421a67a497cea198e8ccfb97ee       6.1   8.3  6.8  8.2  7.1       8.0   \n",
       "4  1432d50cf8519694ab992c414d90a130       8.8   9.3  5.0  8.5  5.1       5.0   \n",
       "\n",
       "   Discreta   P2  Grafos  Fís.Clássica  LP2       cra  Cálculo1  \n",
       "0       8.3  8.8     8.2           7.9  9.4  8.477647       8.7  \n",
       "1       7.3  8.2     5.4           7.7  8.9  6.851724       7.0  \n",
       "2       8.8  9.5     9.2           8.6  9.7  9.090588       8.6  \n",
       "3       6.3  8.9     7.0           8.5  9.0  7.283516       7.8  \n",
       "4       5.8  7.1     5.4           8.7  8.2  7.205747       5.2  "
      ]
     },
     "execution_count": 70,
     "metadata": {},
     "output_type": "execute_result"
    }
   ],
   "source": [
    "train = pd.read_csv(\"treino.csv\")\n",
    "test = pd.read_csv(\"teste.csv\")\n",
    "train.head()"
   ]
  },
  {
   "cell_type": "code",
   "execution_count": 71,
   "metadata": {},
   "outputs": [
    {
     "data": {
      "text/html": [
       "<div>\n",
       "<style>\n",
       "    .dataframe thead tr:only-child th {\n",
       "        text-align: right;\n",
       "    }\n",
       "\n",
       "    .dataframe thead th {\n",
       "        text-align: left;\n",
       "    }\n",
       "\n",
       "    .dataframe tbody tr th {\n",
       "        vertical-align: top;\n",
       "    }\n",
       "</style>\n",
       "<table border=\"1\" class=\"dataframe\">\n",
       "  <thead>\n",
       "    <tr style=\"text-align: right;\">\n",
       "      <th></th>\n",
       "      <th>matricula</th>\n",
       "      <th>Cálculo1</th>\n",
       "      <th>Vetorial</th>\n",
       "      <th>LPT</th>\n",
       "      <th>P1</th>\n",
       "      <th>IC</th>\n",
       "      <th>LP1</th>\n",
       "      <th>Cálculo2</th>\n",
       "      <th>Discreta</th>\n",
       "      <th>P2</th>\n",
       "      <th>Grafos</th>\n",
       "      <th>Fís.Clássica</th>\n",
       "      <th>LP2</th>\n",
       "      <th>cra</th>\n",
       "    </tr>\n",
       "  </thead>\n",
       "  <tbody>\n",
       "    <tr>\n",
       "      <th>0</th>\n",
       "      <td>066a1b8f51616bc9f7cf392aec12df2c</td>\n",
       "      <td>7.0</td>\n",
       "      <td>7.0</td>\n",
       "      <td>5.2</td>\n",
       "      <td>5.4</td>\n",
       "      <td>7.9</td>\n",
       "      <td>6.4</td>\n",
       "      <td>5.0</td>\n",
       "      <td>5.1</td>\n",
       "      <td>6.4</td>\n",
       "      <td>7.1</td>\n",
       "      <td>7.0</td>\n",
       "      <td>7.1</td>\n",
       "      <td>6.790805</td>\n",
       "    </tr>\n",
       "    <tr>\n",
       "      <th>1</th>\n",
       "      <td>07e605cabb25fcd348569d15324433cc</td>\n",
       "      <td>7.0</td>\n",
       "      <td>7.0</td>\n",
       "      <td>7.2</td>\n",
       "      <td>7.9</td>\n",
       "      <td>8.7</td>\n",
       "      <td>7.7</td>\n",
       "      <td>6.5</td>\n",
       "      <td>7.9</td>\n",
       "      <td>8.7</td>\n",
       "      <td>6.5</td>\n",
       "      <td>7.2</td>\n",
       "      <td>9.0</td>\n",
       "      <td>7.230337</td>\n",
       "    </tr>\n",
       "    <tr>\n",
       "      <th>2</th>\n",
       "      <td>1298de387b2af5489ce432fe854ae0f7</td>\n",
       "      <td>7.3</td>\n",
       "      <td>5.0</td>\n",
       "      <td>8.3</td>\n",
       "      <td>8.1</td>\n",
       "      <td>7.0</td>\n",
       "      <td>7.4</td>\n",
       "      <td>5.0</td>\n",
       "      <td>5.9</td>\n",
       "      <td>7.3</td>\n",
       "      <td>5.6</td>\n",
       "      <td>5.0</td>\n",
       "      <td>7.1</td>\n",
       "      <td>6.873626</td>\n",
       "    </tr>\n",
       "    <tr>\n",
       "      <th>3</th>\n",
       "      <td>1471a43df7d59a219ad739462d791410</td>\n",
       "      <td>7.0</td>\n",
       "      <td>6.8</td>\n",
       "      <td>6.4</td>\n",
       "      <td>7.0</td>\n",
       "      <td>8.6</td>\n",
       "      <td>8.2</td>\n",
       "      <td>6.3</td>\n",
       "      <td>8.0</td>\n",
       "      <td>7.9</td>\n",
       "      <td>5.4</td>\n",
       "      <td>9.0</td>\n",
       "      <td>8.9</td>\n",
       "      <td>7.444828</td>\n",
       "    </tr>\n",
       "    <tr>\n",
       "      <th>4</th>\n",
       "      <td>25f50af45fa0065a73077d8d047a7cd1</td>\n",
       "      <td>7.8</td>\n",
       "      <td>7.4</td>\n",
       "      <td>7.0</td>\n",
       "      <td>7.0</td>\n",
       "      <td>8.7</td>\n",
       "      <td>7.1</td>\n",
       "      <td>7.3</td>\n",
       "      <td>8.2</td>\n",
       "      <td>8.1</td>\n",
       "      <td>7.5</td>\n",
       "      <td>7.4</td>\n",
       "      <td>8.0</td>\n",
       "      <td>7.954118</td>\n",
       "    </tr>\n",
       "  </tbody>\n",
       "</table>\n",
       "</div>"
      ],
      "text/plain": [
       "                          matricula  Cálculo1  Vetorial  LPT   P1   IC  LP1  \\\n",
       "0  066a1b8f51616bc9f7cf392aec12df2c       7.0       7.0  5.2  5.4  7.9  6.4   \n",
       "1  07e605cabb25fcd348569d15324433cc       7.0       7.0  7.2  7.9  8.7  7.7   \n",
       "2  1298de387b2af5489ce432fe854ae0f7       7.3       5.0  8.3  8.1  7.0  7.4   \n",
       "3  1471a43df7d59a219ad739462d791410       7.0       6.8  6.4  7.0  8.6  8.2   \n",
       "4  25f50af45fa0065a73077d8d047a7cd1       7.8       7.4  7.0  7.0  8.7  7.1   \n",
       "\n",
       "   Cálculo2  Discreta   P2  Grafos  Fís.Clássica  LP2       cra  \n",
       "0       5.0       5.1  6.4     7.1           7.0  7.1  6.790805  \n",
       "1       6.5       7.9  8.7     6.5           7.2  9.0  7.230337  \n",
       "2       5.0       5.9  7.3     5.6           5.0  7.1  6.873626  \n",
       "3       6.3       8.0  7.9     5.4           9.0  8.9  7.444828  \n",
       "4       7.3       8.2  8.1     7.5           7.4  8.0  7.954118  "
      ]
     },
     "execution_count": 71,
     "metadata": {},
     "output_type": "execute_result"
    }
   ],
   "source": [
    "test.head()"
   ]
  },
  {
   "cell_type": "code",
   "execution_count": 72,
   "metadata": {},
   "outputs": [
    {
     "data": {
      "text/html": [
       "<div>\n",
       "<style>\n",
       "    .dataframe thead tr:only-child th {\n",
       "        text-align: right;\n",
       "    }\n",
       "\n",
       "    .dataframe thead th {\n",
       "        text-align: left;\n",
       "    }\n",
       "\n",
       "    .dataframe tbody tr th {\n",
       "        vertical-align: top;\n",
       "    }\n",
       "</style>\n",
       "<table border=\"1\" class=\"dataframe\">\n",
       "  <thead>\n",
       "    <tr style=\"text-align: right;\">\n",
       "      <th></th>\n",
       "      <th>matricula</th>\n",
       "      <th>Cálculo1</th>\n",
       "      <th>Vetorial</th>\n",
       "      <th>LPT</th>\n",
       "      <th>P1</th>\n",
       "      <th>IC</th>\n",
       "      <th>LP1</th>\n",
       "      <th>Cálculo2</th>\n",
       "      <th>Discreta</th>\n",
       "      <th>P2</th>\n",
       "      <th>Grafos</th>\n",
       "      <th>Fís.Clássica</th>\n",
       "      <th>LP2</th>\n",
       "      <th>cra</th>\n",
       "    </tr>\n",
       "  </thead>\n",
       "  <tbody>\n",
       "    <tr>\n",
       "      <th>0</th>\n",
       "      <td>0cc3d63edf0b986cb87e345972857e15</td>\n",
       "      <td>8.7</td>\n",
       "      <td>8.6</td>\n",
       "      <td>10.0</td>\n",
       "      <td>9.0</td>\n",
       "      <td>9.1</td>\n",
       "      <td>8.6</td>\n",
       "      <td>8.4</td>\n",
       "      <td>8.3</td>\n",
       "      <td>8.8</td>\n",
       "      <td>8.2</td>\n",
       "      <td>7.9</td>\n",
       "      <td>9.4</td>\n",
       "      <td>8.477647</td>\n",
       "    </tr>\n",
       "    <tr>\n",
       "      <th>1</th>\n",
       "      <td>0d78246db769dc958ce19fc414050b2a</td>\n",
       "      <td>7.0</td>\n",
       "      <td>5.6</td>\n",
       "      <td>7.0</td>\n",
       "      <td>7.7</td>\n",
       "      <td>7.0</td>\n",
       "      <td>8.1</td>\n",
       "      <td>6.2</td>\n",
       "      <td>7.3</td>\n",
       "      <td>8.2</td>\n",
       "      <td>5.4</td>\n",
       "      <td>7.7</td>\n",
       "      <td>8.9</td>\n",
       "      <td>6.851724</td>\n",
       "    </tr>\n",
       "    <tr>\n",
       "      <th>2</th>\n",
       "      <td>0f5bb983df06b90337dc2c6301fef3f6</td>\n",
       "      <td>8.6</td>\n",
       "      <td>10.0</td>\n",
       "      <td>9.8</td>\n",
       "      <td>7.9</td>\n",
       "      <td>9.6</td>\n",
       "      <td>8.3</td>\n",
       "      <td>8.7</td>\n",
       "      <td>8.8</td>\n",
       "      <td>9.5</td>\n",
       "      <td>9.2</td>\n",
       "      <td>8.6</td>\n",
       "      <td>9.7</td>\n",
       "      <td>9.090588</td>\n",
       "    </tr>\n",
       "    <tr>\n",
       "      <th>3</th>\n",
       "      <td>1307a4421a67a497cea198e8ccfb97ee</td>\n",
       "      <td>7.8</td>\n",
       "      <td>6.1</td>\n",
       "      <td>8.3</td>\n",
       "      <td>6.8</td>\n",
       "      <td>8.2</td>\n",
       "      <td>7.1</td>\n",
       "      <td>8.0</td>\n",
       "      <td>6.3</td>\n",
       "      <td>8.9</td>\n",
       "      <td>7.0</td>\n",
       "      <td>8.5</td>\n",
       "      <td>9.0</td>\n",
       "      <td>7.283516</td>\n",
       "    </tr>\n",
       "    <tr>\n",
       "      <th>4</th>\n",
       "      <td>1432d50cf8519694ab992c414d90a130</td>\n",
       "      <td>5.2</td>\n",
       "      <td>8.8</td>\n",
       "      <td>9.3</td>\n",
       "      <td>5.0</td>\n",
       "      <td>8.5</td>\n",
       "      <td>5.1</td>\n",
       "      <td>5.0</td>\n",
       "      <td>5.8</td>\n",
       "      <td>7.1</td>\n",
       "      <td>5.4</td>\n",
       "      <td>8.7</td>\n",
       "      <td>8.2</td>\n",
       "      <td>7.205747</td>\n",
       "    </tr>\n",
       "  </tbody>\n",
       "</table>\n",
       "</div>"
      ],
      "text/plain": [
       "                          matricula  Cálculo1  Vetorial   LPT   P1   IC  LP1  \\\n",
       "0  0cc3d63edf0b986cb87e345972857e15       8.7       8.6  10.0  9.0  9.1  8.6   \n",
       "1  0d78246db769dc958ce19fc414050b2a       7.0       5.6   7.0  7.7  7.0  8.1   \n",
       "2  0f5bb983df06b90337dc2c6301fef3f6       8.6      10.0   9.8  7.9  9.6  8.3   \n",
       "3  1307a4421a67a497cea198e8ccfb97ee       7.8       6.1   8.3  6.8  8.2  7.1   \n",
       "4  1432d50cf8519694ab992c414d90a130       5.2       8.8   9.3  5.0  8.5  5.1   \n",
       "\n",
       "   Cálculo2  Discreta   P2  Grafos  Fís.Clássica  LP2       cra  \n",
       "0       8.4       8.3  8.8     8.2           7.9  9.4  8.477647  \n",
       "1       6.2       7.3  8.2     5.4           7.7  8.9  6.851724  \n",
       "2       8.7       8.8  9.5     9.2           8.6  9.7  9.090588  \n",
       "3       8.0       6.3  8.9     7.0           8.5  9.0  7.283516  \n",
       "4       5.0       5.8  7.1     5.4           8.7  8.2  7.205747  "
      ]
     },
     "execution_count": 72,
     "metadata": {},
     "output_type": "execute_result"
    }
   ],
   "source": [
    "Calc1 = train['Cálculo1']\n",
    "train = train.drop('Cálculo1', axis=1)\n",
    "train.insert(1, 'Cálculo1', Calc1)\n",
    "train.head()"
   ]
  },
  {
   "cell_type": "code",
   "execution_count": 73,
   "metadata": {},
   "outputs": [
    {
     "data": {
      "text/plain": [
       "(121, 14)"
      ]
     },
     "execution_count": 73,
     "metadata": {},
     "output_type": "execute_result"
    }
   ],
   "source": [
    "all_data = pd.concat((train.loc[:,:], test.loc[:,:]))\n",
    "all_data.shape"
   ]
  },
  {
   "cell_type": "markdown",
   "metadata": {},
   "source": [
    "## Pré-processamento de dados\n",
    "### Substituição de valores ausentes"
   ]
  },
  {
   "cell_type": "markdown",
   "metadata": {},
   "source": [
    "Abaixo substituimos os valores numéricos faltantes (NaN's) pela média de suas respectivas colunas."
   ]
  },
  {
   "cell_type": "code",
   "execution_count": 74,
   "metadata": {
    "collapsed": true
   },
   "outputs": [],
   "source": [
    "all_data = all_data.fillna(all_data.mean())"
   ]
  },
  {
   "cell_type": "markdown",
   "metadata": {},
   "source": [
    "### Extração de *features*\n",
    "\n",
    "A seguir adicionamos novas colunas (*features*) que possam ajudar na realização da predição do CRA. Aqui presume-se que a relação entre disciplinas semelhantes possa ter um impacto maior do que quando consideradas separadamente."
   ]
  },
  {
   "cell_type": "code",
   "execution_count": 75,
   "metadata": {},
   "outputs": [
    {
     "data": {
      "text/html": [
       "<div>\n",
       "<style>\n",
       "    .dataframe thead tr:only-child th {\n",
       "        text-align: right;\n",
       "    }\n",
       "\n",
       "    .dataframe thead th {\n",
       "        text-align: left;\n",
       "    }\n",
       "\n",
       "    .dataframe tbody tr th {\n",
       "        vertical-align: top;\n",
       "    }\n",
       "</style>\n",
       "<table border=\"1\" class=\"dataframe\">\n",
       "  <thead>\n",
       "    <tr style=\"text-align: right;\">\n",
       "      <th></th>\n",
       "      <th>matricula</th>\n",
       "      <th>Cálculo1</th>\n",
       "      <th>Vetorial</th>\n",
       "      <th>LPT</th>\n",
       "      <th>P1</th>\n",
       "      <th>IC</th>\n",
       "      <th>LP1</th>\n",
       "      <th>Cálculo2</th>\n",
       "      <th>Discreta</th>\n",
       "      <th>P2</th>\n",
       "      <th>Grafos</th>\n",
       "      <th>Fís.Clássica</th>\n",
       "      <th>LP2</th>\n",
       "      <th>cra</th>\n",
       "      <th>Math</th>\n",
       "      <th>Comp</th>\n",
       "      <th>Média1</th>\n",
       "      <th>Média2</th>\n",
       "      <th>MédiaGeral</th>\n",
       "      <th>Per2</th>\n",
       "    </tr>\n",
       "  </thead>\n",
       "  <tbody>\n",
       "    <tr>\n",
       "      <th>0</th>\n",
       "      <td>0cc3d63edf0b986cb87e345972857e15</td>\n",
       "      <td>8.7</td>\n",
       "      <td>8.6</td>\n",
       "      <td>10.0</td>\n",
       "      <td>9.0</td>\n",
       "      <td>9.1</td>\n",
       "      <td>8.6</td>\n",
       "      <td>8.4</td>\n",
       "      <td>8.3</td>\n",
       "      <td>8.8</td>\n",
       "      <td>8.2</td>\n",
       "      <td>7.9</td>\n",
       "      <td>9.4</td>\n",
       "      <td>8.477647</td>\n",
       "      <td>5216.4504</td>\n",
       "      <td>477756.63936</td>\n",
       "      <td>9.08</td>\n",
       "      <td>8.366667</td>\n",
       "      <td>238882.85968</td>\n",
       "      <td>25.813333</td>\n",
       "    </tr>\n",
       "    <tr>\n",
       "      <th>1</th>\n",
       "      <td>0d78246db769dc958ce19fc414050b2a</td>\n",
       "      <td>7.0</td>\n",
       "      <td>5.6</td>\n",
       "      <td>7.0</td>\n",
       "      <td>7.7</td>\n",
       "      <td>7.0</td>\n",
       "      <td>8.1</td>\n",
       "      <td>6.2</td>\n",
       "      <td>7.3</td>\n",
       "      <td>8.2</td>\n",
       "      <td>5.4</td>\n",
       "      <td>7.7</td>\n",
       "      <td>8.9</td>\n",
       "      <td>6.851724</td>\n",
       "      <td>1774.1920</td>\n",
       "      <td>172056.62628</td>\n",
       "      <td>6.86</td>\n",
       "      <td>7.150000</td>\n",
       "      <td>86031.74314</td>\n",
       "      <td>21.160000</td>\n",
       "    </tr>\n",
       "    <tr>\n",
       "      <th>2</th>\n",
       "      <td>0f5bb983df06b90337dc2c6301fef3f6</td>\n",
       "      <td>8.6</td>\n",
       "      <td>10.0</td>\n",
       "      <td>9.8</td>\n",
       "      <td>7.9</td>\n",
       "      <td>9.6</td>\n",
       "      <td>8.3</td>\n",
       "      <td>8.7</td>\n",
       "      <td>8.8</td>\n",
       "      <td>9.5</td>\n",
       "      <td>9.2</td>\n",
       "      <td>8.6</td>\n",
       "      <td>9.7</td>\n",
       "      <td>9.090588</td>\n",
       "      <td>6584.1600</td>\n",
       "      <td>533653.77216</td>\n",
       "      <td>9.18</td>\n",
       "      <td>8.850000</td>\n",
       "      <td>266831.47608</td>\n",
       "      <td>26.880000</td>\n",
       "    </tr>\n",
       "    <tr>\n",
       "      <th>3</th>\n",
       "      <td>1307a4421a67a497cea198e8ccfb97ee</td>\n",
       "      <td>7.8</td>\n",
       "      <td>6.1</td>\n",
       "      <td>8.3</td>\n",
       "      <td>6.8</td>\n",
       "      <td>8.2</td>\n",
       "      <td>7.1</td>\n",
       "      <td>8.0</td>\n",
       "      <td>6.3</td>\n",
       "      <td>8.9</td>\n",
       "      <td>7.0</td>\n",
       "      <td>8.5</td>\n",
       "      <td>9.0</td>\n",
       "      <td>7.283516</td>\n",
       "      <td>2398.0320</td>\n",
       "      <td>221978.88720</td>\n",
       "      <td>7.44</td>\n",
       "      <td>7.633333</td>\n",
       "      <td>110993.16360</td>\n",
       "      <td>22.706667</td>\n",
       "    </tr>\n",
       "    <tr>\n",
       "      <th>4</th>\n",
       "      <td>1432d50cf8519694ab992c414d90a130</td>\n",
       "      <td>5.2</td>\n",
       "      <td>8.8</td>\n",
       "      <td>9.3</td>\n",
       "      <td>5.0</td>\n",
       "      <td>8.5</td>\n",
       "      <td>5.1</td>\n",
       "      <td>5.0</td>\n",
       "      <td>5.8</td>\n",
       "      <td>7.1</td>\n",
       "      <td>5.4</td>\n",
       "      <td>8.7</td>\n",
       "      <td>8.2</td>\n",
       "      <td>7.205747</td>\n",
       "      <td>1327.0400</td>\n",
       "      <td>68143.59900</td>\n",
       "      <td>7.36</td>\n",
       "      <td>6.183333</td>\n",
       "      <td>34075.47950</td>\n",
       "      <td>19.726667</td>\n",
       "    </tr>\n",
       "  </tbody>\n",
       "</table>\n",
       "</div>"
      ],
      "text/plain": [
       "                          matricula  Cálculo1  Vetorial   LPT   P1   IC  LP1  \\\n",
       "0  0cc3d63edf0b986cb87e345972857e15       8.7       8.6  10.0  9.0  9.1  8.6   \n",
       "1  0d78246db769dc958ce19fc414050b2a       7.0       5.6   7.0  7.7  7.0  8.1   \n",
       "2  0f5bb983df06b90337dc2c6301fef3f6       8.6      10.0   9.8  7.9  9.6  8.3   \n",
       "3  1307a4421a67a497cea198e8ccfb97ee       7.8       6.1   8.3  6.8  8.2  7.1   \n",
       "4  1432d50cf8519694ab992c414d90a130       5.2       8.8   9.3  5.0  8.5  5.1   \n",
       "\n",
       "   Cálculo2  Discreta   P2  Grafos  Fís.Clássica  LP2       cra       Math  \\\n",
       "0       8.4       8.3  8.8     8.2           7.9  9.4  8.477647  5216.4504   \n",
       "1       6.2       7.3  8.2     5.4           7.7  8.9  6.851724  1774.1920   \n",
       "2       8.7       8.8  9.5     9.2           8.6  9.7  9.090588  6584.1600   \n",
       "3       8.0       6.3  8.9     7.0           8.5  9.0  7.283516  2398.0320   \n",
       "4       5.0       5.8  7.1     5.4           8.7  8.2  7.205747  1327.0400   \n",
       "\n",
       "           Comp  Média1    Média2    MédiaGeral       Per2  \n",
       "0  477756.63936    9.08  8.366667  238882.85968  25.813333  \n",
       "1  172056.62628    6.86  7.150000   86031.74314  21.160000  \n",
       "2  533653.77216    9.18  8.850000  266831.47608  26.880000  \n",
       "3  221978.88720    7.44  7.633333  110993.16360  22.706667  \n",
       "4   68143.59900    7.36  6.183333   34075.47950  19.726667  "
      ]
     },
     "execution_count": 75,
     "metadata": {},
     "output_type": "execute_result"
    }
   ],
   "source": [
    "all_data['Math'] = all_data['Cálculo1'] * all_data['Vetorial'] * all_data['Cálculo2'] * all_data['Discreta']\n",
    "all_data['Comp'] =  all_data['P1'] * all_data['IC'] * all_data['LP1'] * all_data['P2'] * all_data['Grafos'] * all_data['LP2']\n",
    "all_data['Média1'] = pd.DataFrame(all_data.iloc[:,[0,1,2,3,4,5]]).mean(axis=1)\n",
    "all_data['Média2'] = pd.DataFrame(all_data.iloc[:,[6,7,8,9,10,11]]).mean(axis=1)\n",
    "all_data['MédiaGeral'] = pd.DataFrame(all_data.iloc[:,[15,16]]).mean(axis=1)\n",
    "all_data['Per2'] = all_data['Média1'] + all_data['Média2'] * 2\n",
    "\n",
    "all_data.head()"
   ]
  },
  {
   "cell_type": "markdown",
   "metadata": {},
   "source": [
    "### Transformação de dados\n",
    "\n",
    "A seguir, analisaremos a distribuição dos dados à procura de caudas, a fim de transformá-los aplicando uma função logarítmica sobre os mesmos."
   ]
  },
  {
   "cell_type": "code",
   "execution_count": 76,
   "metadata": {},
   "outputs": [
    {
     "data": {
      "text/plain": [
       "array([[<matplotlib.axes._subplots.AxesSubplot object at 0x0A982ED0>,\n",
       "        <matplotlib.axes._subplots.AxesSubplot object at 0x0B11A9F0>,\n",
       "        <matplotlib.axes._subplots.AxesSubplot object at 0x0A74A930>,\n",
       "        <matplotlib.axes._subplots.AxesSubplot object at 0x0B176750>],\n",
       "       [<matplotlib.axes._subplots.AxesSubplot object at 0x0B1A7970>,\n",
       "        <matplotlib.axes._subplots.AxesSubplot object at 0x0B1A7990>,\n",
       "        <matplotlib.axes._subplots.AxesSubplot object at 0x0B1F02D0>,\n",
       "        <matplotlib.axes._subplots.AxesSubplot object at 0x0B253A50>],\n",
       "       [<matplotlib.axes._subplots.AxesSubplot object at 0x0B2AA7B0>,\n",
       "        <matplotlib.axes._subplots.AxesSubplot object at 0x0B2B1BD0>,\n",
       "        <matplotlib.axes._subplots.AxesSubplot object at 0x0B3291F0>,\n",
       "        <matplotlib.axes._subplots.AxesSubplot object at 0x0B3605F0>],\n",
       "       [<matplotlib.axes._subplots.AxesSubplot object at 0x0B3A0C30>,\n",
       "        <matplotlib.axes._subplots.AxesSubplot object at 0x0B3DF890>,\n",
       "        <matplotlib.axes._subplots.AxesSubplot object at 0x0B427DB0>,\n",
       "        <matplotlib.axes._subplots.AxesSubplot object at 0x0B463ED0>],\n",
       "       [<matplotlib.axes._subplots.AxesSubplot object at 0x0B48CB30>,\n",
       "        <matplotlib.axes._subplots.AxesSubplot object at 0x0B4E25F0>,\n",
       "        <matplotlib.axes._subplots.AxesSubplot object at 0x0B4EA970>,\n",
       "        <matplotlib.axes._subplots.AxesSubplot object at 0x0B55AF90>]], dtype=object)"
      ]
     },
     "execution_count": 76,
     "metadata": {},
     "output_type": "execute_result"
    },
    {
     "data": {
      "image/png": "[encoded data removed]",
      "text/plain": [
       "<matplotlib.figure.Figure at 0xb8d8d90>"
      ]
     },
     "metadata": {},
     "output_type": "display_data"
    }
   ],
   "source": [
    "matplotlib.rcParams['figure.figsize'] = (24.0, 12.0)\n",
    "train = all_data[:train.shape[0]]\n",
    "train.hist()"
   ]
  },
  {
   "cell_type": "markdown",
   "metadata": {},
   "source": [
    "Abaixo buscou-se identificar o *threshold* que separa as distribuições enviesadas das demais. Este *threshold*, para os dados aqui tratados, é o valor absoluto 0.5."
   ]
  },
  {
   "cell_type": "code",
   "execution_count": 77,
   "metadata": {
    "collapsed": true
   },
   "outputs": [],
   "source": [
    "#Identificando o threshold dos gráficos enviesados\n",
    "\n",
    "Calc2= pd.DataFrame(train.iloc[:,7].values)\n",
    "Calc2 = skew(Calc2)\n",
    "#Cauda à direita = 0.5\n",
    "\n",
    "LP2= pd.DataFrame(train.iloc[:,12].values)\n",
    "LP2 = skew(LP2)\n",
    "#Cauda à esquerda = -1.9\n",
    "\n",
    "Math = pd.DataFrame(train.iloc[:,14].values)\n",
    "Math = skew(Math)\n",
    "#Cauda à direita = 1.39\n",
    "\n",
    "Comp = pd.DataFrame(train.iloc[:,15].values)\n",
    "Comp = skew(Comp)\n",
    "#Cauda à direita = 0.85\n",
    "\n",
    "LP1= pd.DataFrame(train.iloc[:,6].values)\n",
    "LP1 = skew(LP1)\n",
    "#Não enviesado -0.3\n",
    "\n",
    "Grafos = pd.DataFrame(train.iloc[:,10].values)\n",
    "Grafos = skew(Grafos)\n",
    "#Não enviesado = 0.06"
   ]
  },
  {
   "cell_type": "code",
   "execution_count": 78,
   "metadata": {},
   "outputs": [
    {
     "name": "stdout",
     "output_type": "stream",
     "text": [
      "Colunas enviesadas: ['Cálculo2' 'Fís.Clássica' 'LP2' 'Math' 'Comp' 'MédiaGeral']\n"
     ]
    }
   ],
   "source": [
    "#Aplicação da transformação logarítimica sobre as colunas enviesadas:\n",
    "numeric_feats = all_data.dtypes[all_data.dtypes != \"object\"].index\n",
    "\n",
    "skewed_feats = all_data[:train.shape[0]][numeric_feats].apply(lambda x: skew(x.dropna())) #Calcula o viés no conjunto treinamento\n",
    "\n",
    "skewed_feats = skewed_feats[abs(skewed_feats) > 0.5]\n",
    "skewed_feats = skewed_feats.index\n",
    "\n",
    "all_data[skewed_feats] = np.log1p(all_data[skewed_feats])\n",
    "\n",
    "print(\"Colunas enviesadas: {0}\" .format(skewed_feats.values))"
   ]
  },
  {
   "cell_type": "markdown",
   "metadata": {},
   "source": [
    "## Modelos\n",
    "\n",
    "Com os dados tratados, vamos usar modelos de regressão linear com o intuito de predizer o CRA."
   ]
  },
  {
   "cell_type": "markdown",
   "metadata": {},
   "source": [
    "Abaixo é definida uma função que retorna o RMSE (Root Mean Squared Error) de validação cruzada, o qual permite avaliar os modelos utilizados, para posteriormente escolher algum para ser tunado.\n",
    "\n",
    "Essa função foi adaptada do código disponível [aqui](https://www.kaggle.com/apapiu/regularized-linear-models)."
   ]
  },
  {
   "cell_type": "code",
   "execution_count": 79,
   "metadata": {
    "collapsed": true
   },
   "outputs": [],
   "source": [
    "from sklearn.model_selection import cross_val_score\n",
    "\n",
    "def rmse_cv(model, Xtrain, ytrain):\n",
    "    rmse= np.sqrt(-cross_val_score(model, Xtrain, ytrain, scoring=\"neg_mean_squared_error\", cv = 5))\n",
    "    return(rmse)"
   ]
  },
  {
   "cell_type": "markdown",
   "metadata": {},
   "source": [
    "Aplicaremos alguns conjuntos de treinamento ao modelo de regressão linear, cada um com combinações diferentes de *features*, para identificar aquele que retorna menor valor de RMSE."
   ]
  },
  {
   "cell_type": "code",
   "execution_count": 80,
   "metadata": {
    "collapsed": true
   },
   "outputs": [],
   "source": [
    "train = all_data[:train.shape[0]]\n",
    "test = all_data[train.shape[0]:]\n",
    "\n",
    "y_train = train.cra\n",
    "y_test = test.cra\n",
    "\n",
    "X_train1 = train.loc[:,'Cálculo1':'LP2'] #Conjunto de treinamento original\n",
    "X_train2 = train.loc[:,'Math'] #Disciplinas da área matemática\n",
    "X_train3 = train.loc[:,'MédiaGeral'] #Média dos 2 primeiros períodos\n",
    "X_train4 = train.loc[:,'Per2'] #Médias dos 2 primeiros  períodos com peso maior para o segundo\n",
    "X_train5 = train.loc[:,['Per2', 'Cálculo2', 'LP2', 'Discreta']] #Semelhante ao anterior com destaque para algumas disciplinas do 2º período"
   ]
  },
  {
   "cell_type": "markdown",
   "metadata": {},
   "source": [
    "### Modelo de regressão linear\n",
    "\n",
    "Abaixo é aplicado o modelo de regressão linear a todos os conjuntos de treinamento antes definidos."
   ]
  },
  {
   "cell_type": "code",
   "execution_count": 81,
   "metadata": {},
   "outputs": [
    {
     "data": {
      "text/plain": [
       "[0.60004202793058514,\n",
       " 0.66262524231755704,\n",
       " 0.59998229183523011,\n",
       " 0.55910681343115209,\n",
       " 0.53312352155273135]"
      ]
     },
     "execution_count": 81,
     "metadata": {},
     "output_type": "execute_result"
    }
   ],
   "source": [
    "from sklearn import linear_model\n",
    "lm = linear_model.LinearRegression()\n",
    "\n",
    "trains = [X_train1, pd.DataFrame(X_train2), pd.DataFrame(X_train3), pd.DataFrame(X_train4), pd.DataFrame(X_train5)]\n",
    "\n",
    "cv_lm = [rmse_cv(lm.fit(trains[i], y_train), trains[i], y_train).mean()\n",
    "            for i in range(0,len(trains))]\n",
    "\n",
    "cv_lm"
   ]
  },
  {
   "cell_type": "markdown",
   "metadata": {},
   "source": [
    "Retornou menor valor de RMSE o conjunto de treinamento **X_train5**, que confere maior peso para as disciplinas do 2º período quando comparadas com aquelas do 1º período, assim como considera algumas disciplinas específicas daquele. \n",
    "\n",
    "Dessa forma, iremos utilizar esse conjunto de *features* para treinar nossos diversos modelos."
   ]
  },
  {
   "cell_type": "code",
   "execution_count": 82,
   "metadata": {
    "collapsed": true
   },
   "outputs": [],
   "source": [
    "X_train = X_train5\n",
    "X_test = test.loc[:,['Per2', 'Cálculo2', 'LP2', 'Discreta']]"
   ]
  },
  {
   "cell_type": "markdown",
   "metadata": {
    "collapsed": true
   },
   "source": [
    "### Modelo de regressão regularizado Ridge"
   ]
  },
  {
   "cell_type": "code",
   "execution_count": 83,
   "metadata": {},
   "outputs": [
    {
     "data": {
      "text/plain": [
       "0.53218940894892897"
      ]
     },
     "execution_count": 83,
     "metadata": {},
     "output_type": "execute_result"
    }
   ],
   "source": [
    "from sklearn.linear_model import Ridge\n",
    "\n",
    "model_ridge = Ridge()\n",
    "\n",
    "alphas = [0.05, 0.1, 0.3, 1, 3, 5, 10, 15, 30, 50, 75]\n",
    "\n",
    "cv_ridge = [rmse_cv(Ridge(alpha = alpha).fit(X_train, y_train), X_train, y_train).mean() \n",
    "            for alpha in alphas]\n",
    "\n",
    "cv_ridge = pd.Series(cv_ridge, index = alphas)\n",
    "\n",
    "cv_ridge.min()"
   ]
  },
  {
   "cell_type": "markdown",
   "metadata": {},
   "source": [
    "### Modelo de regressão regularizado Lasso"
   ]
  },
  {
   "cell_type": "code",
   "execution_count": 84,
   "metadata": {},
   "outputs": [
    {
     "data": {
      "text/plain": [
       "0.55075545872454656"
      ]
     },
     "execution_count": 84,
     "metadata": {},
     "output_type": "execute_result"
    }
   ],
   "source": [
    "from sklearn.linear_model import LassoCV\n",
    "\n",
    "model_lasso = LassoCV(alphas = [1, 0.1]).fit(X_train, y_train)\n",
    "rmse_cv(model_lasso, X_train, y_train).mean()"
   ]
  },
  {
   "cell_type": "markdown",
   "metadata": {},
   "source": [
    "## Modelos de regressão não paramétrica\n",
    "### K-NN (K vizinhos mais próximos)"
   ]
  },
  {
   "cell_type": "code",
   "execution_count": 85,
   "metadata": {},
   "outputs": [
    {
     "data": {
      "text/plain": [
       "0.55926660834654496"
      ]
     },
     "execution_count": 85,
     "metadata": {},
     "output_type": "execute_result"
    }
   ],
   "source": [
    "from sklearn.neighbors import KNeighborsRegressor\n",
    "neigh = KNeighborsRegressor(n_neighbors=9)\n",
    "model_neigh = neigh.fit(X_train, y_train)\n",
    "rmse_cv(model_neigh,X_train, y_train).mean()"
   ]
  },
  {
   "cell_type": "markdown",
   "metadata": {
    "collapsed": true
   },
   "source": [
    "### Regressão Kernel Ridge"
   ]
  },
  {
   "cell_type": "code",
   "execution_count": 86,
   "metadata": {},
   "outputs": [
    {
     "data": {
      "text/plain": [
       "0.55287029467783677"
      ]
     },
     "execution_count": 86,
     "metadata": {},
     "output_type": "execute_result"
    }
   ],
   "source": [
    "from sklearn.kernel_ridge import KernelRidge\n",
    "\n",
    "alphas = [0.05, 0.1, 0.3, 1, 3, 5, 10, 15, 30, 50, 75]\n",
    "\n",
    "cv_kridge = [rmse_cv(KernelRidge(alpha = alpha),X_train, y_train).mean() \n",
    "            for alpha in alphas]\n",
    "\n",
    "cv_kridge = pd.Series(cv_kridge, index = alphas)\n",
    "\n",
    "cv_kridge.min()"
   ]
  },
  {
   "cell_type": "markdown",
   "metadata": {},
   "source": [
    "## Resultado dos modelos\n",
    "\n",
    "| RMSE   | Modelo  |\n",
    "|:---|:---:|\n",
    "|0.53312352155273135   | lm  |\n",
    "|0.53218940894892897   | ridge  |\n",
    "|0.55075545872454656   | lasso  |\n",
    "|0.55926660834654496 | knn  |\n",
    "|0.55287029467805326   | kr  |\n",
    "\n",
    "Ambos os modelos comportaram-se de forma semelhante. \n",
    "Utilizaremos o Ridge."
   ]
  },
  {
   "cell_type": "markdown",
   "metadata": {},
   "source": [
    "## Cálculo do RMSE para o conjunto de treinamento"
   ]
  },
  {
   "cell_type": "code",
   "execution_count": 93,
   "metadata": {},
   "outputs": [
    {
     "data": {
      "text/plain": [
       "0.52206977418148215"
      ]
     },
     "execution_count": 93,
     "metadata": {},
     "output_type": "execute_result"
    }
   ],
   "source": [
    "model_ridge = Ridge(alpha = 0.05).fit(X_train, y_train)\n",
    "\n",
    "predicaoTreino = model_ridge.predict(X_train)\n",
    "\n",
    "rmse = np.sqrt(mean_squared_error(y_train, predicaoTreino))\n",
    "rmse"
   ]
  },
  {
   "cell_type": "markdown",
   "metadata": {},
   "source": [
    "## Coeficientes\n",
    "\n",
    "Os coeficientes do modelo treinado são os que seguem:"
   ]
  },
  {
   "cell_type": "code",
   "execution_count": 87,
   "metadata": {},
   "outputs": [
    {
     "data": {
      "text/html": [
       "<div>\n",
       "<style>\n",
       "    .dataframe thead tr:only-child th {\n",
       "        text-align: right;\n",
       "    }\n",
       "\n",
       "    .dataframe thead th {\n",
       "        text-align: left;\n",
       "    }\n",
       "\n",
       "    .dataframe tbody tr th {\n",
       "        vertical-align: top;\n",
       "    }\n",
       "</style>\n",
       "<table border=\"1\" class=\"dataframe\">\n",
       "  <thead>\n",
       "    <tr style=\"text-align: right;\">\n",
       "      <th></th>\n",
       "      <th>coeficientes</th>\n",
       "      <th>features</th>\n",
       "    </tr>\n",
       "  </thead>\n",
       "  <tbody>\n",
       "    <tr>\n",
       "      <th>0</th>\n",
       "      <td>2.926862</td>\n",
       "      <td>intercept</td>\n",
       "    </tr>\n",
       "    <tr>\n",
       "      <th>1</th>\n",
       "      <td>0.271348</td>\n",
       "      <td>Per2</td>\n",
       "    </tr>\n",
       "    <tr>\n",
       "      <th>2</th>\n",
       "      <td>-0.990552</td>\n",
       "      <td>Cálculo2</td>\n",
       "    </tr>\n",
       "    <tr>\n",
       "      <th>3</th>\n",
       "      <td>-0.193620</td>\n",
       "      <td>LP2</td>\n",
       "    </tr>\n",
       "    <tr>\n",
       "      <th>4</th>\n",
       "      <td>0.122088</td>\n",
       "      <td>Discreta</td>\n",
       "    </tr>\n",
       "  </tbody>\n",
       "</table>\n",
       "</div>"
      ],
      "text/plain": [
       "   coeficientes   features\n",
       "0      2.926862  intercept\n",
       "1      0.271348       Per2\n",
       "2     -0.990552   Cálculo2\n",
       "3     -0.193620        LP2\n",
       "4      0.122088   Discreta"
      ]
     },
     "execution_count": 87,
     "metadata": {},
     "output_type": "execute_result"
    }
   ],
   "source": [
    "coef = pd.Series(model_ridge.coef_, index = X_train.columns)\n",
    "\n",
    "coef = pd.DataFrame({'features':coef.index, 'coeficientes':coef.values})\n",
    "\n",
    "coef.loc[-1] = [model_ridge.intercept_, 'intercept']\n",
    "\n",
    "coef.index = coef.index + 1\n",
    "\n",
    "coef = coef.sort_index()\n",
    "\n",
    "coef"
   ]
  },
  {
   "cell_type": "markdown",
   "metadata": {},
   "source": [
    "## Resíduos"
   ]
  },
  {
   "cell_type": "code",
   "execution_count": 88,
   "metadata": {},
   "outputs": [
    {
     "data": {
      "text/plain": [
       "<matplotlib.axes._subplots.AxesSubplot at 0xb60ac30>"
      ]
     },
     "execution_count": 88,
     "metadata": {},
     "output_type": "execute_result"
    },
    {
     "data": {
      "image/png": "[encoded data removed]",
      "text/plain": [
       "<matplotlib.figure.Figure at 0xa367fd0>"
      ]
     },
     "metadata": {},
     "output_type": "display_data"
    }
   ],
   "source": [
    "matplotlib.rcParams['figure.figsize'] = (6.0, 6.0)\n",
    "\n",
    "preds = pd.DataFrame({\"preds\":model_ridge.predict(X_train), \"true\":y_train})\n",
    "preds[\"residuals\"] = preds[\"true\"] - preds[\"preds\"]\n",
    "preds.plot(x = \"preds\", y = \"residuals\",kind = \"scatter\")"
   ]
  },
  {
   "cell_type": "markdown",
   "metadata": {},
   "source": [
    "Dado que o gráfico de resíduos espalha-se ao redor do eixo zero sem padrões distintos, temos um bom indicativo de que modelos lineares são adequados para a tarefa de predição aqui realizada.\n",
    "\n",
    "Por fim, vamos aplicar o modelo sobre o conjunto de testes e calcular seu RMSE."
   ]
  },
  {
   "cell_type": "markdown",
   "metadata": {},
   "source": [
    "## Predição sobre os dados de teste"
   ]
  },
  {
   "cell_type": "code",
   "execution_count": 89,
   "metadata": {
    "collapsed": true
   },
   "outputs": [],
   "source": [
    "predicao = model_ridge.predict(X_test)"
   ]
  },
  {
   "cell_type": "code",
   "execution_count": 90,
   "metadata": {},
   "outputs": [
    {
     "data": {
      "text/plain": [
       "0.39931314937407419"
      ]
     },
     "execution_count": 90,
     "metadata": {},
     "output_type": "execute_result"
    }
   ],
   "source": [
    "from sklearn.metrics import mean_squared_error\n",
    "rmse = np.sqrt(mean_squared_error(y_test, predicao))\n",
    "rmse"
   ]
  },
  {
   "cell_type": "markdown",
   "metadata": {},
   "source": [
    "O RMSE retornado para o conjunto de testes apresentou-se um pouco menor do que aquele alcançado com o conjunto de treinamento, indicando que os valores preditos aproximaram-se ainda mais dos valores reais, como podemos ver no gráfico abaixo."
   ]
  },
  {
   "cell_type": "code",
   "execution_count": 91,
   "metadata": {},
   "outputs": [
    {
     "data": {
      "image/png": "[encoded data removed]",
      "text/plain": [
       "<matplotlib.figure.Figure at 0x8fc5c30>"
      ]
     },
     "metadata": {},
     "output_type": "display_data"
    }
   ],
   "source": [
    "import matplotlib.pyplot as plt\n",
    "\n",
    "preds = pd.DataFrame({\"preds\":predicao})\n",
    "reals = pd.DataFrame({\"true\":y_test})\n",
    "\n",
    "plt.plot(preds, label=\"Predições\", color=\"red\")\n",
    "plt.plot(reals, label=\"CRAs reais\")\n",
    "plt.legend(loc='best')\n",
    "plt.show()"
   ]
  },
  {
   "cell_type": "markdown",
   "metadata": {
    "collapsed": true
   },
   "source": [
    "## Exportando resultado"
   ]
  },
  {
   "cell_type": "code",
   "execution_count": 92,
   "metadata": {},
   "outputs": [],
   "source": [
    "solucao = pd.DataFrame({\"matricula\":test.matricula, \"cra\":predicao})\n",
    "\n",
    "solucao.to_csv(\"tarefa3_sol.csv\", index = False)"
   ]
  }
 ],
 "metadata": {
  "kernelspec": {
   "display_name": "Python 3",
   "language": "python",
   "name": "python3"
  },
  "language_info": {
   "codemirror_mode": {
    "name": "ipython",
    "version": 3
   },
   "file_extension": ".py",
   "mimetype": "text/x-python",
   "name": "python",
   "nbconvert_exporter": "python",
   "pygments_lexer": "ipython3",
   "version": "3.6.1"
  }
 },
 "nbformat": 4,
 "nbformat_minor": 2
}
