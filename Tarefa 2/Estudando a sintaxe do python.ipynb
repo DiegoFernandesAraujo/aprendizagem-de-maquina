{
 "cells": [
  {
   "cell_type": "code",
   "execution_count": 2,
   "metadata": {},
   "outputs": [],
   "source": [
    "import numpy as np\n",
    "import math\n",
    "import time"
   ]
  },
  {
   "cell_type": "code",
   "execution_count": 20,
   "metadata": {},
   "outputs": [],
   "source": [
    "points = np.genfromtxt(\"income.csv\", delimiter=\",\")\n",
    "points = np.c_[np.ones(len(points)),points]"
   ]
  },
  {
   "cell_type": "code",
   "execution_count": 21,
   "metadata": {},
   "outputs": [
    {
     "data": {
      "text/plain": [
       "array([[  1.        ,  10.        ,  26.65883878],\n",
       "       [  1.        ,  10.40133779,  27.30643535],\n",
       "       [  1.        ,  10.84280936,  22.13241017],\n",
       "       [  1.        ,  11.24414716,  21.1698405 ],\n",
       "       [  1.        ,  11.64548495,  15.19263352],\n",
       "       [  1.        ,  12.08695652,  26.39895104],\n",
       "       [  1.        ,  12.48829431,  17.43530658],\n",
       "       [  1.        ,  12.88963211,  25.50788523],\n",
       "       [  1.        ,  13.2909699 ,  36.88459469],\n",
       "       [  1.        ,  13.73244147,  39.66610875],\n",
       "       [  1.        ,  14.13377926,  34.39628056],\n",
       "       [  1.        ,  14.53511706,  41.49799354],\n",
       "       [  1.        ,  14.97658863,  44.98157487],\n",
       "       [  1.        ,  15.37792642,  47.03959526],\n",
       "       [  1.        ,  15.77926421,  48.25257829],\n",
       "       [  1.        ,  16.22073579,  57.03425134],\n",
       "       [  1.        ,  16.62207358,  51.49091921],\n",
       "       [  1.        ,  17.02341137,  61.33662055],\n",
       "       [  1.        ,  17.46488294,  57.58198818],\n",
       "       [  1.        ,  17.86622074,  68.55371402],\n",
       "       [  1.        ,  18.26755853,  64.3109253 ],\n",
       "       [  1.        ,  18.7090301 ,  68.95900864],\n",
       "       [  1.        ,  19.11036789,  74.61463928],\n",
       "       [  1.        ,  19.51170569,  71.8671953 ],\n",
       "       [  1.        ,  19.91304348,  76.09813538],\n",
       "       [  1.        ,  20.35451505,  75.77521803],\n",
       "       [  1.        ,  20.75585284,  72.48605532],\n",
       "       [  1.        ,  21.15719064,  77.35502057],\n",
       "       [  1.        ,  21.59866221,  72.11879045],\n",
       "       [  1.        ,  22.        ,  80.2605705 ]])"
      ]
     },
     "execution_count": 21,
     "metadata": {},
     "output_type": "execute_result"
    }
   ],
   "source": [
    "points"
   ]
  },
  {
   "cell_type": "code",
   "execution_count": 33,
   "metadata": {},
   "outputs": [
    {
     "data": {
      "text/plain": [
       "array([[  1.        ,  10.        ],\n",
       "       [  1.        ,  10.40133779],\n",
       "       [  1.        ,  10.84280936],\n",
       "       [  1.        ,  11.24414716],\n",
       "       [  1.        ,  11.64548495],\n",
       "       [  1.        ,  12.08695652],\n",
       "       [  1.        ,  12.48829431],\n",
       "       [  1.        ,  12.88963211],\n",
       "       [  1.        ,  13.2909699 ],\n",
       "       [  1.        ,  13.73244147],\n",
       "       [  1.        ,  14.13377926],\n",
       "       [  1.        ,  14.53511706],\n",
       "       [  1.        ,  14.97658863],\n",
       "       [  1.        ,  15.37792642],\n",
       "       [  1.        ,  15.77926421],\n",
       "       [  1.        ,  16.22073579],\n",
       "       [  1.        ,  16.62207358],\n",
       "       [  1.        ,  17.02341137],\n",
       "       [  1.        ,  17.46488294],\n",
       "       [  1.        ,  17.86622074],\n",
       "       [  1.        ,  18.26755853],\n",
       "       [  1.        ,  18.7090301 ],\n",
       "       [  1.        ,  19.11036789],\n",
       "       [  1.        ,  19.51170569],\n",
       "       [  1.        ,  19.91304348],\n",
       "       [  1.        ,  20.35451505],\n",
       "       [  1.        ,  20.75585284],\n",
       "       [  1.        ,  21.15719064],\n",
       "       [  1.        ,  21.59866221],\n",
       "       [  1.        ,  22.        ]])"
      ]
     },
     "execution_count": 33,
     "metadata": {},
     "output_type": "execute_result"
    }
   ],
   "source": [
    "X = points[:,[0,1]] #Pega todas as linhas das colunas 0 e 1 (convertendo essas duas em um array) \n",
    "X"
   ]
  },
  {
   "cell_type": "code",
   "execution_count": 35,
   "metadata": {},
   "outputs": [
    {
     "data": {
      "text/plain": [
       "(30, 2)"
      ]
     },
     "execution_count": 35,
     "metadata": {},
     "output_type": "execute_result"
    }
   ],
   "source": [
    "X.shape #Número de linhas e colunas"
   ]
  },
  {
   "cell_type": "code",
   "execution_count": 46,
   "metadata": {},
   "outputs": [
    {
     "data": {
      "text/plain": [
       "array([[ 26.65883878],\n",
       "       [ 27.30643535],\n",
       "       [ 22.13241017],\n",
       "       [ 21.1698405 ],\n",
       "       [ 15.19263352],\n",
       "       [ 26.39895104],\n",
       "       [ 17.43530658],\n",
       "       [ 25.50788523],\n",
       "       [ 36.88459469],\n",
       "       [ 39.66610875],\n",
       "       [ 34.39628056],\n",
       "       [ 41.49799354],\n",
       "       [ 44.98157487],\n",
       "       [ 47.03959526],\n",
       "       [ 48.25257829],\n",
       "       [ 57.03425134],\n",
       "       [ 51.49091921],\n",
       "       [ 61.33662055],\n",
       "       [ 57.58198818],\n",
       "       [ 68.55371402],\n",
       "       [ 64.3109253 ],\n",
       "       [ 68.95900864],\n",
       "       [ 74.61463928],\n",
       "       [ 71.8671953 ],\n",
       "       [ 76.09813538],\n",
       "       [ 75.77521803],\n",
       "       [ 72.48605532],\n",
       "       [ 77.35502057],\n",
       "       [ 72.11879045],\n",
       "       [ 80.2605705 ]])"
      ]
     },
     "execution_count": 46,
     "metadata": {},
     "output_type": "execute_result"
    }
   ],
   "source": [
    "Y = points[:,2][:,np.newaxis] #Pega todas as linhas da coluna 2\n",
    "#Y = points[:,[2]] #Retorna o mesmo do anterior\n",
    "\n",
    "#Y = points[:,2] #Dessa forma não retorna o número de colunas. Estranho.\n",
    "Y"
   ]
  },
  {
   "cell_type": "code",
   "execution_count": 50,
   "metadata": {},
   "outputs": [
    {
     "data": {
      "text/plain": [
       "(30, 1)"
      ]
     },
     "execution_count": 50,
     "metadata": {},
     "output_type": "execute_result"
    }
   ],
   "source": [
    "Y.shape"
   ]
  },
  {
   "cell_type": "code",
   "execution_count": 49,
   "metadata": {},
   "outputs": [
    {
     "data": {
      "text/plain": [
       "array([ 26.65883878,  27.30643535,  22.13241017,  21.1698405 ,\n",
       "        15.19263352,  26.39895104,  17.43530658,  25.50788523,\n",
       "        36.88459469,  39.66610875,  34.39628056,  41.49799354,\n",
       "        44.98157487,  47.03959526,  48.25257829,  57.03425134,\n",
       "        51.49091921,  61.33662055,  57.58198818,  68.55371402,\n",
       "        64.3109253 ,  68.95900864,  74.61463928,  71.8671953 ,\n",
       "        76.09813538,  75.77521803,  72.48605532,  77.35502057,\n",
       "        72.11879045,  80.2605705 ])"
      ]
     },
     "execution_count": 49,
     "metadata": {},
     "output_type": "execute_result"
    }
   ],
   "source": [
    "Y[:,0]"
   ]
  },
  {
   "cell_type": "code",
   "execution_count": 51,
   "metadata": {},
   "outputs": [],
   "source": [
    "grad = np.array([np.inf,np.inf])"
   ]
  },
  {
   "cell_type": "code",
   "execution_count": 54,
   "metadata": {},
   "outputs": [
    {
     "data": {
      "text/plain": [
       "array([ inf,  inf])"
      ]
     },
     "execution_count": 54,
     "metadata": {},
     "output_type": "execute_result"
    }
   ],
   "source": [
    "grad"
   ]
  },
  {
   "cell_type": "code",
   "execution_count": null,
   "metadata": {},
   "outputs": [],
   "source": []
  }
 ],
 "metadata": {
  "kernelspec": {
   "display_name": "Python 3",
   "language": "python",
   "name": "python3"
  },
  "language_info": {
   "codemirror_mode": {
    "name": "ipython",
    "version": 3
   },
   "file_extension": ".py",
   "mimetype": "text/x-python",
   "name": "python",
   "nbconvert_exporter": "python",
   "pygments_lexer": "ipython3",
   "version": "3.6.2"
  }
 },
 "nbformat": 4,
 "nbformat_minor": 2
}
